{
 "cells": [
  {
   "cell_type": "markdown",
   "id": "c094aee7",
   "metadata": {},
   "source": [
    "## Model the Energy Efficiency of Building Designs with Python and Machine Learning"
   ]
  },
  {
   "cell_type": "markdown",
   "id": "15f42e4f",
   "metadata": {},
   "source": [
    "---"
   ]
  },
  {
   "cell_type": "markdown",
   "id": "ac8f3a52",
   "metadata": {},
   "source": [
    "<div data-purpose=\"lab-overview\" class=\"lab-overview--overview-container--1KX_6\"><h2 class=\"ud-heading-xl\">Lab scenario</h2><div data-purpose=\"safely-set-inner-html:rich-text-viewer:html\" class=\"lab-rich-text-viewer--lab-html-content--22XsM rt-scaffolding\"><p>You are a data scientist working for Green Architecture, a large architectural firm focused on designing energy-efficient buildings. The architects need a machine learning model that can quickly predict the heating and cooling loads of a building given its high-level attributes, such as roof area, window area, height, and orientation. Green Architecture's Director of Technology has tasked you with building and tuning this model to provide immediate feedback on energy efficiency to the architects as they develop their designs. The Director expects you to train, tune and evaluate several different model types given data on the known energy efficiency of existing buildings and recommend the best model and parameters for predicting the heating and cooling loads of new building designs.</p></div></div>"
   ]
  },
  {
   "cell_type": "markdown",
   "id": "873ef7ed",
   "metadata": {},
   "source": [
    "<div class=\"lab-overview--overview-section--dyhqD\" data-purpose=\"what-you-will-do-list\"><h2 class=\"ud-heading-xl\">Objectives</h2><ul class=\"ud-unstyled-list ud-block-list lab-goals-list--items-list--OpEKI\"><li><div class=\"ud-block-list-item ud-block-list-item-large ud-block-list-item-neutral ud-text-md\"><svg aria-hidden=\"true\" focusable=\"false\" class=\"ud-icon ud-icon-small ud-icon-color-neutral ud-block-list-item-icon\"><use xlink:href=\"#icon-tick\"></use></svg><div class=\"ud-block-list-item-content\">Build, tune, and evaluate regression models with linear regression, decision trees, and random forests</div></div></li><li><div class=\"ud-block-list-item ud-block-list-item-large ud-block-list-item-neutral ud-text-md\"><svg aria-hidden=\"true\" focusable=\"false\" class=\"ud-icon ud-icon-small ud-icon-color-neutral ud-block-list-item-icon\"><use xlink:href=\"#icon-tick\"></use></svg><div class=\"ud-block-list-item-content\">Transform categorical data to one-hot encoding with Python and Pandas</div></div></li><li><div class=\"ud-block-list-item ud-block-list-item-large ud-block-list-item-neutral ud-text-md\"><svg aria-hidden=\"true\" focusable=\"false\" class=\"ud-icon ud-icon-small ud-icon-color-neutral ud-block-list-item-icon\"><use xlink:href=\"#icon-tick\"></use></svg><div class=\"ud-block-list-item-content\">Normalize feature data as appropriate for its data distribution with scikit-learn</div></div></li></ul></div>"
   ]
  },
  {
   "cell_type": "code",
   "execution_count": null,
   "id": "c4a94a97",
   "metadata": {},
   "outputs": [],
   "source": []
  }
 ],
 "metadata": {
  "kernelspec": {
   "display_name": "Python 3 (ipykernel)",
   "language": "python",
   "name": "python3"
  },
  "language_info": {
   "codemirror_mode": {
    "name": "ipython",
    "version": 3
   },
   "file_extension": ".py",
   "mimetype": "text/x-python",
   "name": "python",
   "nbconvert_exporter": "python",
   "pygments_lexer": "ipython3",
   "version": "3.10.9"
  }
 },
 "nbformat": 4,
 "nbformat_minor": 5
}
