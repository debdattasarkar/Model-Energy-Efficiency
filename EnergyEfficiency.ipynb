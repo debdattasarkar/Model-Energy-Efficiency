{
 "cells": [
  {
   "cell_type": "markdown",
   "id": "cb738688",
   "metadata": {},
   "source": [
    "# Modeling Energy Efficiency of Buildings"
   ]
  },
  {
   "cell_type": "markdown",
   "id": "f757982a",
   "metadata": {},
   "source": [
    "### Data set credit\n",
    "\n",
    "https://archive.ics.uci.edu/ml/datasets/Energy+efficiency#\n",
    "\n",
    "A. Tsanas, A. Xifara: 'Accurate quantitative estimation of energy performance of residential buildings using statistical machine learning tools', Energy and Buildings, Vol. 49, pp. 560-567, 2012 "
   ]
  },
  {
   "cell_type": "code",
   "execution_count": null,
   "id": "b39da91f",
   "metadata": {},
   "outputs": [],
   "source": []
  }
 ],
 "metadata": {
  "kernelspec": {
   "display_name": "Python 3 (ipykernel)",
   "language": "python",
   "name": "python3"
  },
  "language_info": {
   "codemirror_mode": {
    "name": "ipython",
    "version": 3
   },
   "file_extension": ".py",
   "mimetype": "text/x-python",
   "name": "python",
   "nbconvert_exporter": "python",
   "pygments_lexer": "ipython3",
   "version": "3.8.5"
  }
 },
 "nbformat": 4,
 "nbformat_minor": 5
}
