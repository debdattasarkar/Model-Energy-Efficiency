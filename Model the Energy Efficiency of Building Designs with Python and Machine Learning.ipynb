{
 "cells": [
  {
   "cell_type": "markdown",
   "id": "c094aee7",
   "metadata": {},
   "source": [
    "## Model the Energy Efficiency of Building Designs with Python and Machine Learning"
   ]
  },
  {
   "cell_type": "markdown",
   "id": "15f42e4f",
   "metadata": {},
   "source": [
    "---"
   ]
  },
  {
   "cell_type": "markdown",
   "id": "ac8f3a52",
   "metadata": {},
   "source": [
    "<div data-purpose=\"lab-overview\" class=\"lab-overview--overview-container--1KX_6\"><h2 class=\"ud-heading-xl\">Lab scenario</h2><div data-purpose=\"safely-set-inner-html:rich-text-viewer:html\" class=\"lab-rich-text-viewer--lab-html-content--22XsM rt-scaffolding\"><p>You are a data scientist working for Green Architecture, a large architectural firm focused on designing energy-efficient buildings. The architects need a machine learning model that can quickly predict the heating and cooling loads of a building given its high-level attributes, such as roof area, window area, height, and orientation. Green Architecture's Director of Technology has tasked you with building and tuning this model to provide immediate feedback on energy efficiency to the architects as they develop their designs. The Director expects you to train, tune and evaluate several different model types given data on the known energy efficiency of existing buildings and recommend the best model and parameters for predicting the heating and cooling loads of new building designs.</p></div></div>"
   ]
  },
  {
   "cell_type": "markdown",
   "id": "873ef7ed",
   "metadata": {},
   "source": [
    "<div class=\"lab-overview--overview-section--dyhqD\" data-purpose=\"what-you-will-do-list\"><h2 class=\"ud-heading-xl\">Objectives</h2><ul class=\"ud-unstyled-list ud-block-list lab-goals-list--items-list--OpEKI\"><li><div class=\"ud-block-list-item ud-block-list-item-large ud-block-list-item-neutral ud-text-md\"><svg aria-hidden=\"true\" focusable=\"false\" class=\"ud-icon ud-icon-small ud-icon-color-neutral ud-block-list-item-icon\"><use xlink:href=\"#icon-tick\"></use></svg><div class=\"ud-block-list-item-content\">Build, tune, and evaluate regression models with linear regression, decision trees, and random forests</div></div></li><li><div class=\"ud-block-list-item ud-block-list-item-large ud-block-list-item-neutral ud-text-md\"><svg aria-hidden=\"true\" focusable=\"false\" class=\"ud-icon ud-icon-small ud-icon-color-neutral ud-block-list-item-icon\"><use xlink:href=\"#icon-tick\"></use></svg><div class=\"ud-block-list-item-content\">Transform categorical data to one-hot encoding with Python and Pandas</div></div></li><li><div class=\"ud-block-list-item ud-block-list-item-large ud-block-list-item-neutral ud-text-md\"><svg aria-hidden=\"true\" focusable=\"false\" class=\"ud-icon ud-icon-small ud-icon-color-neutral ud-block-list-item-icon\"><use xlink:href=\"#icon-tick\"></use></svg><div class=\"ud-block-list-item-content\">Normalize feature data as appropriate for its data distribution with scikit-learn</div></div></li></ul></div>"
   ]
  },
  {
   "cell_type": "markdown",
   "id": "1c66f6bd",
   "metadata": {},
   "source": [
    "<div class=\"project-overview--content--5pYFt\"><div data-purpose=\"safely-set-inner-html:rich-text-viewer:html\" class=\"lab-rich-text-viewer--lab-html-content--22XsM rt-scaffolding\"><p>Your idea about using machine learning to guide energy-efficient building design has our architects excited! I want you to develop a proof of concept. We have some data on the actual heating and cooling loads of buildings that have different design choices including their geometry, window placement, and orientation. Find the best machine learning model to predict the efficiency of a given building design - if it's effective, we'll integrate it into our architects' tools to give them real-time feedback while they work!</p></div><div class=\"project-overview--project-overview-container--1p-6S\"><div data-purpose=\"safely-set-inner-html:rich-text-viewer:html\" class=\"lab-rich-text-viewer--lab-html-content--22XsM rt-scaffolding\"><p>Start with the Jupyter notebook and csv file (ENB2012_data.csv) that I've loaded into your workspace. Although the data has been cleaned, you'll still need to prepare it for machine learning. The \"Orientation\" and \"WindowsDistribution\" columns are categorical in nature, and need to be one-hot encoded somehow. Since we can only predict one thing at a time, combine the heating and cooling loads into a single metric by adding them together. You'll also need to normalize the feature data in a way that makes sense for its observed distribution. Once it's prepared, split your data into training and testing sets (an 80/20 split), and measure the accuracy of linear regression, decision trees, and random forests for modeling this data using root mean-squared error. Random forests have a few hyperparameters to tune, so if that model looks promising, double down on it and do a grid search for its best parameter values.&nbsp; Let me know which model performed the best, its mean absolute error, and the parameters you chose. Then, our software developers can go about integrating it into the architects' tools. Oh, and whenever you're doing random splits or anything, be sure to use a random state of \"1234\" so your results may be reproduced.</p></div></div></div>"
   ]
  },
  {
   "cell_type": "markdown",
   "id": "66ac63bf",
   "metadata": {},
   "source": [
    "---\n",
    "<h3 class=\"ud-heading-md \">1. Load and inspect our energy efficiency data</h3>\n",
    "<p>Load our data set of building attributes and their heating and cooling loads into a Pandas DataFrame named <strong>buildings</strong> and confirm it loads successfully. Explore the data with some high-level statistical measures to understand its nature and confirm there are no missing values in the data set. </p>"
   ]
  },
  {
   "cell_type": "code",
   "execution_count": 1,
   "id": "b779dab8",
   "metadata": {},
   "outputs": [
    {
     "data": {
      "text/html": [
       "<div>\n",
       "<style scoped>\n",
       "    .dataframe tbody tr th:only-of-type {\n",
       "        vertical-align: middle;\n",
       "    }\n",
       "\n",
       "    .dataframe tbody tr th {\n",
       "        vertical-align: top;\n",
       "    }\n",
       "\n",
       "    .dataframe thead th {\n",
       "        text-align: right;\n",
       "    }\n",
       "</style>\n",
       "<table border=\"1\" class=\"dataframe\">\n",
       "  <thead>\n",
       "    <tr style=\"text-align: right;\">\n",
       "      <th></th>\n",
       "      <th>Compactness</th>\n",
       "      <th>SurfaceArea</th>\n",
       "      <th>WallArea</th>\n",
       "      <th>RoofArea</th>\n",
       "      <th>Height</th>\n",
       "      <th>Orientation</th>\n",
       "      <th>WindowsArea</th>\n",
       "      <th>WindowsDistribution</th>\n",
       "      <th>HeatingLoad</th>\n",
       "      <th>CoolingLoad</th>\n",
       "    </tr>\n",
       "  </thead>\n",
       "  <tbody>\n",
       "    <tr>\n",
       "      <th>0</th>\n",
       "      <td>0.98</td>\n",
       "      <td>514.5</td>\n",
       "      <td>294.0</td>\n",
       "      <td>110.25</td>\n",
       "      <td>7.0</td>\n",
       "      <td>2</td>\n",
       "      <td>0.0</td>\n",
       "      <td>0</td>\n",
       "      <td>15.55</td>\n",
       "      <td>21.33</td>\n",
       "    </tr>\n",
       "    <tr>\n",
       "      <th>1</th>\n",
       "      <td>0.98</td>\n",
       "      <td>514.5</td>\n",
       "      <td>294.0</td>\n",
       "      <td>110.25</td>\n",
       "      <td>7.0</td>\n",
       "      <td>3</td>\n",
       "      <td>0.0</td>\n",
       "      <td>0</td>\n",
       "      <td>15.55</td>\n",
       "      <td>21.33</td>\n",
       "    </tr>\n",
       "    <tr>\n",
       "      <th>2</th>\n",
       "      <td>0.98</td>\n",
       "      <td>514.5</td>\n",
       "      <td>294.0</td>\n",
       "      <td>110.25</td>\n",
       "      <td>7.0</td>\n",
       "      <td>4</td>\n",
       "      <td>0.0</td>\n",
       "      <td>0</td>\n",
       "      <td>15.55</td>\n",
       "      <td>21.33</td>\n",
       "    </tr>\n",
       "    <tr>\n",
       "      <th>3</th>\n",
       "      <td>0.98</td>\n",
       "      <td>514.5</td>\n",
       "      <td>294.0</td>\n",
       "      <td>110.25</td>\n",
       "      <td>7.0</td>\n",
       "      <td>5</td>\n",
       "      <td>0.0</td>\n",
       "      <td>0</td>\n",
       "      <td>15.55</td>\n",
       "      <td>21.33</td>\n",
       "    </tr>\n",
       "    <tr>\n",
       "      <th>4</th>\n",
       "      <td>0.90</td>\n",
       "      <td>563.5</td>\n",
       "      <td>318.5</td>\n",
       "      <td>122.50</td>\n",
       "      <td>7.0</td>\n",
       "      <td>2</td>\n",
       "      <td>0.0</td>\n",
       "      <td>0</td>\n",
       "      <td>20.84</td>\n",
       "      <td>28.28</td>\n",
       "    </tr>\n",
       "  </tbody>\n",
       "</table>\n",
       "</div>"
      ],
      "text/plain": [
       "   Compactness  SurfaceArea  WallArea  RoofArea  Height  Orientation  \\\n",
       "0         0.98        514.5     294.0    110.25     7.0            2   \n",
       "1         0.98        514.5     294.0    110.25     7.0            3   \n",
       "2         0.98        514.5     294.0    110.25     7.0            4   \n",
       "3         0.98        514.5     294.0    110.25     7.0            5   \n",
       "4         0.90        563.5     318.5    122.50     7.0            2   \n",
       "\n",
       "   WindowsArea  WindowsDistribution  HeatingLoad  CoolingLoad  \n",
       "0          0.0                    0        15.55        21.33  \n",
       "1          0.0                    0        15.55        21.33  \n",
       "2          0.0                    0        15.55        21.33  \n",
       "3          0.0                    0        15.55        21.33  \n",
       "4          0.0                    0        20.84        28.28  "
      ]
     },
     "execution_count": 1,
     "metadata": {},
     "output_type": "execute_result"
    }
   ],
   "source": [
    "import pandas as pd\n",
    "import numpy as np\n",
    " \n",
    "buildings = pd.read_csv(\"ENB2012_data.csv\")\n",
    "buildings.head()"
   ]
  },
  {
   "cell_type": "code",
   "execution_count": 2,
   "id": "d8bc5700",
   "metadata": {},
   "outputs": [
    {
     "data": {
      "text/html": [
       "<div>\n",
       "<style scoped>\n",
       "    .dataframe tbody tr th:only-of-type {\n",
       "        vertical-align: middle;\n",
       "    }\n",
       "\n",
       "    .dataframe tbody tr th {\n",
       "        vertical-align: top;\n",
       "    }\n",
       "\n",
       "    .dataframe thead th {\n",
       "        text-align: right;\n",
       "    }\n",
       "</style>\n",
       "<table border=\"1\" class=\"dataframe\">\n",
       "  <thead>\n",
       "    <tr style=\"text-align: right;\">\n",
       "      <th></th>\n",
       "      <th>Compactness</th>\n",
       "      <th>SurfaceArea</th>\n",
       "      <th>WallArea</th>\n",
       "      <th>RoofArea</th>\n",
       "      <th>Height</th>\n",
       "      <th>Orientation</th>\n",
       "      <th>WindowsArea</th>\n",
       "      <th>WindowsDistribution</th>\n",
       "      <th>HeatingLoad</th>\n",
       "      <th>CoolingLoad</th>\n",
       "    </tr>\n",
       "  </thead>\n",
       "  <tbody>\n",
       "    <tr>\n",
       "      <th>count</th>\n",
       "      <td>768.000000</td>\n",
       "      <td>768.000000</td>\n",
       "      <td>768.000000</td>\n",
       "      <td>768.000000</td>\n",
       "      <td>768.00000</td>\n",
       "      <td>768.000000</td>\n",
       "      <td>768.000000</td>\n",
       "      <td>768.00000</td>\n",
       "      <td>768.000000</td>\n",
       "      <td>768.000000</td>\n",
       "    </tr>\n",
       "    <tr>\n",
       "      <th>mean</th>\n",
       "      <td>0.764167</td>\n",
       "      <td>671.708333</td>\n",
       "      <td>318.500000</td>\n",
       "      <td>176.604167</td>\n",
       "      <td>5.25000</td>\n",
       "      <td>3.500000</td>\n",
       "      <td>0.234375</td>\n",
       "      <td>2.81250</td>\n",
       "      <td>22.307201</td>\n",
       "      <td>24.587760</td>\n",
       "    </tr>\n",
       "    <tr>\n",
       "      <th>std</th>\n",
       "      <td>0.105777</td>\n",
       "      <td>88.086116</td>\n",
       "      <td>43.626481</td>\n",
       "      <td>45.165950</td>\n",
       "      <td>1.75114</td>\n",
       "      <td>1.118763</td>\n",
       "      <td>0.133221</td>\n",
       "      <td>1.55096</td>\n",
       "      <td>10.090196</td>\n",
       "      <td>9.513306</td>\n",
       "    </tr>\n",
       "    <tr>\n",
       "      <th>min</th>\n",
       "      <td>0.620000</td>\n",
       "      <td>514.500000</td>\n",
       "      <td>245.000000</td>\n",
       "      <td>110.250000</td>\n",
       "      <td>3.50000</td>\n",
       "      <td>2.000000</td>\n",
       "      <td>0.000000</td>\n",
       "      <td>0.00000</td>\n",
       "      <td>6.010000</td>\n",
       "      <td>10.900000</td>\n",
       "    </tr>\n",
       "    <tr>\n",
       "      <th>25%</th>\n",
       "      <td>0.682500</td>\n",
       "      <td>606.375000</td>\n",
       "      <td>294.000000</td>\n",
       "      <td>140.875000</td>\n",
       "      <td>3.50000</td>\n",
       "      <td>2.750000</td>\n",
       "      <td>0.100000</td>\n",
       "      <td>1.75000</td>\n",
       "      <td>12.992500</td>\n",
       "      <td>15.620000</td>\n",
       "    </tr>\n",
       "    <tr>\n",
       "      <th>50%</th>\n",
       "      <td>0.750000</td>\n",
       "      <td>673.750000</td>\n",
       "      <td>318.500000</td>\n",
       "      <td>183.750000</td>\n",
       "      <td>5.25000</td>\n",
       "      <td>3.500000</td>\n",
       "      <td>0.250000</td>\n",
       "      <td>3.00000</td>\n",
       "      <td>18.950000</td>\n",
       "      <td>22.080000</td>\n",
       "    </tr>\n",
       "    <tr>\n",
       "      <th>75%</th>\n",
       "      <td>0.830000</td>\n",
       "      <td>741.125000</td>\n",
       "      <td>343.000000</td>\n",
       "      <td>220.500000</td>\n",
       "      <td>7.00000</td>\n",
       "      <td>4.250000</td>\n",
       "      <td>0.400000</td>\n",
       "      <td>4.00000</td>\n",
       "      <td>31.667500</td>\n",
       "      <td>33.132500</td>\n",
       "    </tr>\n",
       "    <tr>\n",
       "      <th>max</th>\n",
       "      <td>0.980000</td>\n",
       "      <td>808.500000</td>\n",
       "      <td>416.500000</td>\n",
       "      <td>220.500000</td>\n",
       "      <td>7.00000</td>\n",
       "      <td>5.000000</td>\n",
       "      <td>0.400000</td>\n",
       "      <td>5.00000</td>\n",
       "      <td>43.100000</td>\n",
       "      <td>48.030000</td>\n",
       "    </tr>\n",
       "  </tbody>\n",
       "</table>\n",
       "</div>"
      ],
      "text/plain": [
       "       Compactness  SurfaceArea    WallArea    RoofArea     Height  \\\n",
       "count   768.000000   768.000000  768.000000  768.000000  768.00000   \n",
       "mean      0.764167   671.708333  318.500000  176.604167    5.25000   \n",
       "std       0.105777    88.086116   43.626481   45.165950    1.75114   \n",
       "min       0.620000   514.500000  245.000000  110.250000    3.50000   \n",
       "25%       0.682500   606.375000  294.000000  140.875000    3.50000   \n",
       "50%       0.750000   673.750000  318.500000  183.750000    5.25000   \n",
       "75%       0.830000   741.125000  343.000000  220.500000    7.00000   \n",
       "max       0.980000   808.500000  416.500000  220.500000    7.00000   \n",
       "\n",
       "       Orientation  WindowsArea  WindowsDistribution  HeatingLoad  CoolingLoad  \n",
       "count   768.000000   768.000000            768.00000   768.000000   768.000000  \n",
       "mean      3.500000     0.234375              2.81250    22.307201    24.587760  \n",
       "std       1.118763     0.133221              1.55096    10.090196     9.513306  \n",
       "min       2.000000     0.000000              0.00000     6.010000    10.900000  \n",
       "25%       2.750000     0.100000              1.75000    12.992500    15.620000  \n",
       "50%       3.500000     0.250000              3.00000    18.950000    22.080000  \n",
       "75%       4.250000     0.400000              4.00000    31.667500    33.132500  \n",
       "max       5.000000     0.400000              5.00000    43.100000    48.030000  "
      ]
     },
     "execution_count": 2,
     "metadata": {},
     "output_type": "execute_result"
    }
   ],
   "source": [
    "buildings.describe()"
   ]
  },
  {
   "cell_type": "code",
   "execution_count": 3,
   "id": "e75e253f",
   "metadata": {},
   "outputs": [
    {
     "data": {
      "text/plain": [
       "False"
      ]
     },
     "execution_count": 3,
     "metadata": {},
     "output_type": "execute_result"
    }
   ],
   "source": [
    "buildings.isnull().values.any()"
   ]
  },
  {
   "cell_type": "markdown",
   "id": "9e50bcf2",
   "metadata": {},
   "source": [
    "---\n",
    "<h3 class=\"ud-heading-md \">2. Combine the heating and cooling loads into a single metric</h3>\n",
    "<p>To simplify our model, replace the \"CoolingLoad\" and \"HeatingLoad\" columns with a single \"CombinedLoad\" column that adds them together for each row.&nbsp;Remove the original heating and cooling load columns when complete.</p>"
   ]
  },
  {
   "cell_type": "code",
   "execution_count": 4,
   "id": "f587d465",
   "metadata": {},
   "outputs": [],
   "source": [
    "# Create a new CombinedLoad column from the sum of HeatingLoad and CoolingLoad.\n",
    "buildings['CombinedLoad'] = buildings['HeatingLoad'] + buildings['CoolingLoad']"
   ]
  },
  {
   "cell_type": "code",
   "execution_count": 5,
   "id": "64c30779",
   "metadata": {},
   "outputs": [
    {
     "data": {
      "text/html": [
       "<div>\n",
       "<style scoped>\n",
       "    .dataframe tbody tr th:only-of-type {\n",
       "        vertical-align: middle;\n",
       "    }\n",
       "\n",
       "    .dataframe tbody tr th {\n",
       "        vertical-align: top;\n",
       "    }\n",
       "\n",
       "    .dataframe thead th {\n",
       "        text-align: right;\n",
       "    }\n",
       "</style>\n",
       "<table border=\"1\" class=\"dataframe\">\n",
       "  <thead>\n",
       "    <tr style=\"text-align: right;\">\n",
       "      <th></th>\n",
       "      <th>Compactness</th>\n",
       "      <th>SurfaceArea</th>\n",
       "      <th>WallArea</th>\n",
       "      <th>RoofArea</th>\n",
       "      <th>Height</th>\n",
       "      <th>Orientation</th>\n",
       "      <th>WindowsArea</th>\n",
       "      <th>WindowsDistribution</th>\n",
       "      <th>HeatingLoad</th>\n",
       "      <th>CoolingLoad</th>\n",
       "      <th>CombinedLoad</th>\n",
       "    </tr>\n",
       "  </thead>\n",
       "  <tbody>\n",
       "    <tr>\n",
       "      <th>0</th>\n",
       "      <td>0.98</td>\n",
       "      <td>514.5</td>\n",
       "      <td>294.0</td>\n",
       "      <td>110.25</td>\n",
       "      <td>7.0</td>\n",
       "      <td>2</td>\n",
       "      <td>0.0</td>\n",
       "      <td>0</td>\n",
       "      <td>15.55</td>\n",
       "      <td>21.33</td>\n",
       "      <td>36.88</td>\n",
       "    </tr>\n",
       "    <tr>\n",
       "      <th>1</th>\n",
       "      <td>0.98</td>\n",
       "      <td>514.5</td>\n",
       "      <td>294.0</td>\n",
       "      <td>110.25</td>\n",
       "      <td>7.0</td>\n",
       "      <td>3</td>\n",
       "      <td>0.0</td>\n",
       "      <td>0</td>\n",
       "      <td>15.55</td>\n",
       "      <td>21.33</td>\n",
       "      <td>36.88</td>\n",
       "    </tr>\n",
       "    <tr>\n",
       "      <th>2</th>\n",
       "      <td>0.98</td>\n",
       "      <td>514.5</td>\n",
       "      <td>294.0</td>\n",
       "      <td>110.25</td>\n",
       "      <td>7.0</td>\n",
       "      <td>4</td>\n",
       "      <td>0.0</td>\n",
       "      <td>0</td>\n",
       "      <td>15.55</td>\n",
       "      <td>21.33</td>\n",
       "      <td>36.88</td>\n",
       "    </tr>\n",
       "    <tr>\n",
       "      <th>3</th>\n",
       "      <td>0.98</td>\n",
       "      <td>514.5</td>\n",
       "      <td>294.0</td>\n",
       "      <td>110.25</td>\n",
       "      <td>7.0</td>\n",
       "      <td>5</td>\n",
       "      <td>0.0</td>\n",
       "      <td>0</td>\n",
       "      <td>15.55</td>\n",
       "      <td>21.33</td>\n",
       "      <td>36.88</td>\n",
       "    </tr>\n",
       "    <tr>\n",
       "      <th>4</th>\n",
       "      <td>0.90</td>\n",
       "      <td>563.5</td>\n",
       "      <td>318.5</td>\n",
       "      <td>122.50</td>\n",
       "      <td>7.0</td>\n",
       "      <td>2</td>\n",
       "      <td>0.0</td>\n",
       "      <td>0</td>\n",
       "      <td>20.84</td>\n",
       "      <td>28.28</td>\n",
       "      <td>49.12</td>\n",
       "    </tr>\n",
       "  </tbody>\n",
       "</table>\n",
       "</div>"
      ],
      "text/plain": [
       "   Compactness  SurfaceArea  WallArea  RoofArea  Height  Orientation  \\\n",
       "0         0.98        514.5     294.0    110.25     7.0            2   \n",
       "1         0.98        514.5     294.0    110.25     7.0            3   \n",
       "2         0.98        514.5     294.0    110.25     7.0            4   \n",
       "3         0.98        514.5     294.0    110.25     7.0            5   \n",
       "4         0.90        563.5     318.5    122.50     7.0            2   \n",
       "\n",
       "   WindowsArea  WindowsDistribution  HeatingLoad  CoolingLoad  CombinedLoad  \n",
       "0          0.0                    0        15.55        21.33         36.88  \n",
       "1          0.0                    0        15.55        21.33         36.88  \n",
       "2          0.0                    0        15.55        21.33         36.88  \n",
       "3          0.0                    0        15.55        21.33         36.88  \n",
       "4          0.0                    0        20.84        28.28         49.12  "
      ]
     },
     "execution_count": 5,
     "metadata": {},
     "output_type": "execute_result"
    }
   ],
   "source": [
    "buildings.head()"
   ]
  },
  {
   "cell_type": "code",
   "execution_count": 6,
   "id": "895eb467",
   "metadata": {},
   "outputs": [],
   "source": [
    "buildings.drop(['HeatingLoad', 'CoolingLoad'], axis=1, inplace=True)"
   ]
  },
  {
   "cell_type": "code",
   "execution_count": 7,
   "id": "d74ac452",
   "metadata": {},
   "outputs": [
    {
     "data": {
      "text/html": [
       "<div>\n",
       "<style scoped>\n",
       "    .dataframe tbody tr th:only-of-type {\n",
       "        vertical-align: middle;\n",
       "    }\n",
       "\n",
       "    .dataframe tbody tr th {\n",
       "        vertical-align: top;\n",
       "    }\n",
       "\n",
       "    .dataframe thead th {\n",
       "        text-align: right;\n",
       "    }\n",
       "</style>\n",
       "<table border=\"1\" class=\"dataframe\">\n",
       "  <thead>\n",
       "    <tr style=\"text-align: right;\">\n",
       "      <th></th>\n",
       "      <th>Compactness</th>\n",
       "      <th>SurfaceArea</th>\n",
       "      <th>WallArea</th>\n",
       "      <th>RoofArea</th>\n",
       "      <th>Height</th>\n",
       "      <th>Orientation</th>\n",
       "      <th>WindowsArea</th>\n",
       "      <th>WindowsDistribution</th>\n",
       "      <th>CombinedLoad</th>\n",
       "    </tr>\n",
       "  </thead>\n",
       "  <tbody>\n",
       "    <tr>\n",
       "      <th>0</th>\n",
       "      <td>0.98</td>\n",
       "      <td>514.5</td>\n",
       "      <td>294.0</td>\n",
       "      <td>110.25</td>\n",
       "      <td>7.0</td>\n",
       "      <td>2</td>\n",
       "      <td>0.0</td>\n",
       "      <td>0</td>\n",
       "      <td>36.88</td>\n",
       "    </tr>\n",
       "    <tr>\n",
       "      <th>1</th>\n",
       "      <td>0.98</td>\n",
       "      <td>514.5</td>\n",
       "      <td>294.0</td>\n",
       "      <td>110.25</td>\n",
       "      <td>7.0</td>\n",
       "      <td>3</td>\n",
       "      <td>0.0</td>\n",
       "      <td>0</td>\n",
       "      <td>36.88</td>\n",
       "    </tr>\n",
       "    <tr>\n",
       "      <th>2</th>\n",
       "      <td>0.98</td>\n",
       "      <td>514.5</td>\n",
       "      <td>294.0</td>\n",
       "      <td>110.25</td>\n",
       "      <td>7.0</td>\n",
       "      <td>4</td>\n",
       "      <td>0.0</td>\n",
       "      <td>0</td>\n",
       "      <td>36.88</td>\n",
       "    </tr>\n",
       "    <tr>\n",
       "      <th>3</th>\n",
       "      <td>0.98</td>\n",
       "      <td>514.5</td>\n",
       "      <td>294.0</td>\n",
       "      <td>110.25</td>\n",
       "      <td>7.0</td>\n",
       "      <td>5</td>\n",
       "      <td>0.0</td>\n",
       "      <td>0</td>\n",
       "      <td>36.88</td>\n",
       "    </tr>\n",
       "    <tr>\n",
       "      <th>4</th>\n",
       "      <td>0.90</td>\n",
       "      <td>563.5</td>\n",
       "      <td>318.5</td>\n",
       "      <td>122.50</td>\n",
       "      <td>7.0</td>\n",
       "      <td>2</td>\n",
       "      <td>0.0</td>\n",
       "      <td>0</td>\n",
       "      <td>49.12</td>\n",
       "    </tr>\n",
       "  </tbody>\n",
       "</table>\n",
       "</div>"
      ],
      "text/plain": [
       "   Compactness  SurfaceArea  WallArea  RoofArea  Height  Orientation  \\\n",
       "0         0.98        514.5     294.0    110.25     7.0            2   \n",
       "1         0.98        514.5     294.0    110.25     7.0            3   \n",
       "2         0.98        514.5     294.0    110.25     7.0            4   \n",
       "3         0.98        514.5     294.0    110.25     7.0            5   \n",
       "4         0.90        563.5     318.5    122.50     7.0            2   \n",
       "\n",
       "   WindowsArea  WindowsDistribution  CombinedLoad  \n",
       "0          0.0                    0         36.88  \n",
       "1          0.0                    0         36.88  \n",
       "2          0.0                    0         36.88  \n",
       "3          0.0                    0         36.88  \n",
       "4          0.0                    0         49.12  "
      ]
     },
     "execution_count": 7,
     "metadata": {},
     "output_type": "execute_result"
    }
   ],
   "source": [
    "buildings.head()"
   ]
  },
  {
   "cell_type": "markdown",
   "id": "f835909e",
   "metadata": {},
   "source": [
    "<h3 class=\"ud-heading-md \">3. One-hot encode the categorical data in our DataFrame</h3>\n",
    "<p>The \"Orientation\" and \"WindowsDistribution\" columns are not numeric values; the integers in these columns represent categories. \"Orientation\" maps to North, South, East, and West, and \"WindowsDistribution\" maps to six&nbsp; different layouts for positioning windows in a building. To make this data suitable for machine learning, these columns must be replaced with one-hot encoded representations, with individual binary columns for each possible value.<br><br>Create a new DataFrame named \"encoded\", which replaces the \"Orientation\" and \"WindowsDistribution\" columns with one-hot-encoded columns in our DataFrame.</p>"
   ]
  },
  {
   "cell_type": "code",
   "execution_count": 8,
   "id": "7aac896f",
   "metadata": {},
   "outputs": [],
   "source": [
    "encoded = pd.get_dummies(buildings, columns=['Orientation', 'WindowsDistribution'])"
   ]
  },
  {
   "cell_type": "code",
   "execution_count": 9,
   "id": "3cac1eda",
   "metadata": {},
   "outputs": [
    {
     "data": {
      "text/html": [
       "<div>\n",
       "<style scoped>\n",
       "    .dataframe tbody tr th:only-of-type {\n",
       "        vertical-align: middle;\n",
       "    }\n",
       "\n",
       "    .dataframe tbody tr th {\n",
       "        vertical-align: top;\n",
       "    }\n",
       "\n",
       "    .dataframe thead th {\n",
       "        text-align: right;\n",
       "    }\n",
       "</style>\n",
       "<table border=\"1\" class=\"dataframe\">\n",
       "  <thead>\n",
       "    <tr style=\"text-align: right;\">\n",
       "      <th></th>\n",
       "      <th>Compactness</th>\n",
       "      <th>SurfaceArea</th>\n",
       "      <th>WallArea</th>\n",
       "      <th>RoofArea</th>\n",
       "      <th>Height</th>\n",
       "      <th>WindowsArea</th>\n",
       "      <th>CombinedLoad</th>\n",
       "      <th>Orientation_2</th>\n",
       "      <th>Orientation_3</th>\n",
       "      <th>Orientation_4</th>\n",
       "      <th>Orientation_5</th>\n",
       "      <th>WindowsDistribution_0</th>\n",
       "      <th>WindowsDistribution_1</th>\n",
       "      <th>WindowsDistribution_2</th>\n",
       "      <th>WindowsDistribution_3</th>\n",
       "      <th>WindowsDistribution_4</th>\n",
       "      <th>WindowsDistribution_5</th>\n",
       "    </tr>\n",
       "  </thead>\n",
       "  <tbody>\n",
       "    <tr>\n",
       "      <th>0</th>\n",
       "      <td>0.98</td>\n",
       "      <td>514.5</td>\n",
       "      <td>294.0</td>\n",
       "      <td>110.25</td>\n",
       "      <td>7.0</td>\n",
       "      <td>0.0</td>\n",
       "      <td>36.88</td>\n",
       "      <td>1</td>\n",
       "      <td>0</td>\n",
       "      <td>0</td>\n",
       "      <td>0</td>\n",
       "      <td>1</td>\n",
       "      <td>0</td>\n",
       "      <td>0</td>\n",
       "      <td>0</td>\n",
       "      <td>0</td>\n",
       "      <td>0</td>\n",
       "    </tr>\n",
       "    <tr>\n",
       "      <th>1</th>\n",
       "      <td>0.98</td>\n",
       "      <td>514.5</td>\n",
       "      <td>294.0</td>\n",
       "      <td>110.25</td>\n",
       "      <td>7.0</td>\n",
       "      <td>0.0</td>\n",
       "      <td>36.88</td>\n",
       "      <td>0</td>\n",
       "      <td>1</td>\n",
       "      <td>0</td>\n",
       "      <td>0</td>\n",
       "      <td>1</td>\n",
       "      <td>0</td>\n",
       "      <td>0</td>\n",
       "      <td>0</td>\n",
       "      <td>0</td>\n",
       "      <td>0</td>\n",
       "    </tr>\n",
       "    <tr>\n",
       "      <th>2</th>\n",
       "      <td>0.98</td>\n",
       "      <td>514.5</td>\n",
       "      <td>294.0</td>\n",
       "      <td>110.25</td>\n",
       "      <td>7.0</td>\n",
       "      <td>0.0</td>\n",
       "      <td>36.88</td>\n",
       "      <td>0</td>\n",
       "      <td>0</td>\n",
       "      <td>1</td>\n",
       "      <td>0</td>\n",
       "      <td>1</td>\n",
       "      <td>0</td>\n",
       "      <td>0</td>\n",
       "      <td>0</td>\n",
       "      <td>0</td>\n",
       "      <td>0</td>\n",
       "    </tr>\n",
       "    <tr>\n",
       "      <th>3</th>\n",
       "      <td>0.98</td>\n",
       "      <td>514.5</td>\n",
       "      <td>294.0</td>\n",
       "      <td>110.25</td>\n",
       "      <td>7.0</td>\n",
       "      <td>0.0</td>\n",
       "      <td>36.88</td>\n",
       "      <td>0</td>\n",
       "      <td>0</td>\n",
       "      <td>0</td>\n",
       "      <td>1</td>\n",
       "      <td>1</td>\n",
       "      <td>0</td>\n",
       "      <td>0</td>\n",
       "      <td>0</td>\n",
       "      <td>0</td>\n",
       "      <td>0</td>\n",
       "    </tr>\n",
       "    <tr>\n",
       "      <th>4</th>\n",
       "      <td>0.90</td>\n",
       "      <td>563.5</td>\n",
       "      <td>318.5</td>\n",
       "      <td>122.50</td>\n",
       "      <td>7.0</td>\n",
       "      <td>0.0</td>\n",
       "      <td>49.12</td>\n",
       "      <td>1</td>\n",
       "      <td>0</td>\n",
       "      <td>0</td>\n",
       "      <td>0</td>\n",
       "      <td>1</td>\n",
       "      <td>0</td>\n",
       "      <td>0</td>\n",
       "      <td>0</td>\n",
       "      <td>0</td>\n",
       "      <td>0</td>\n",
       "    </tr>\n",
       "  </tbody>\n",
       "</table>\n",
       "</div>"
      ],
      "text/plain": [
       "   Compactness  SurfaceArea  WallArea  RoofArea  Height  WindowsArea  \\\n",
       "0         0.98        514.5     294.0    110.25     7.0          0.0   \n",
       "1         0.98        514.5     294.0    110.25     7.0          0.0   \n",
       "2         0.98        514.5     294.0    110.25     7.0          0.0   \n",
       "3         0.98        514.5     294.0    110.25     7.0          0.0   \n",
       "4         0.90        563.5     318.5    122.50     7.0          0.0   \n",
       "\n",
       "   CombinedLoad  Orientation_2  Orientation_3  Orientation_4  Orientation_5  \\\n",
       "0         36.88              1              0              0              0   \n",
       "1         36.88              0              1              0              0   \n",
       "2         36.88              0              0              1              0   \n",
       "3         36.88              0              0              0              1   \n",
       "4         49.12              1              0              0              0   \n",
       "\n",
       "   WindowsDistribution_0  WindowsDistribution_1  WindowsDistribution_2  \\\n",
       "0                      1                      0                      0   \n",
       "1                      1                      0                      0   \n",
       "2                      1                      0                      0   \n",
       "3                      1                      0                      0   \n",
       "4                      1                      0                      0   \n",
       "\n",
       "   WindowsDistribution_3  WindowsDistribution_4  WindowsDistribution_5  \n",
       "0                      0                      0                      0  \n",
       "1                      0                      0                      0  \n",
       "2                      0                      0                      0  \n",
       "3                      0                      0                      0  \n",
       "4                      0                      0                      0  "
      ]
     },
     "execution_count": 9,
     "metadata": {},
     "output_type": "execute_result"
    }
   ],
   "source": [
    "encoded.head()"
   ]
  },
  {
   "cell_type": "markdown",
   "id": "03f258e6",
   "metadata": {},
   "source": [
    "<h3 class=\"ud-heading-md \">4. Split our data into features and labels</h3>\n",
    "<p>To train our machine learning models, we must split our encoded data set into its features (attributes) and labels (the values we are trying to predict). Create a Series <strong>y</strong> containing our label data from the \"CombinedLoad\" column and a feature DataFrame <strong>X</strong> containing the remaining columns. By convention, be sure <strong>X </strong>is upper-case, and <strong>y </strong>is lower-case.</p>"
   ]
  },
  {
   "cell_type": "code",
   "execution_count": 10,
   "id": "03807503",
   "metadata": {},
   "outputs": [],
   "source": [
    "X = encoded.drop(['CombinedLoad'], axis=1)"
   ]
  },
  {
   "cell_type": "code",
   "execution_count": 11,
   "id": "463c0810",
   "metadata": {},
   "outputs": [
    {
     "data": {
      "text/html": [
       "<div>\n",
       "<style scoped>\n",
       "    .dataframe tbody tr th:only-of-type {\n",
       "        vertical-align: middle;\n",
       "    }\n",
       "\n",
       "    .dataframe tbody tr th {\n",
       "        vertical-align: top;\n",
       "    }\n",
       "\n",
       "    .dataframe thead th {\n",
       "        text-align: right;\n",
       "    }\n",
       "</style>\n",
       "<table border=\"1\" class=\"dataframe\">\n",
       "  <thead>\n",
       "    <tr style=\"text-align: right;\">\n",
       "      <th></th>\n",
       "      <th>Compactness</th>\n",
       "      <th>SurfaceArea</th>\n",
       "      <th>WallArea</th>\n",
       "      <th>RoofArea</th>\n",
       "      <th>Height</th>\n",
       "      <th>WindowsArea</th>\n",
       "      <th>Orientation_2</th>\n",
       "      <th>Orientation_3</th>\n",
       "      <th>Orientation_4</th>\n",
       "      <th>Orientation_5</th>\n",
       "      <th>WindowsDistribution_0</th>\n",
       "      <th>WindowsDistribution_1</th>\n",
       "      <th>WindowsDistribution_2</th>\n",
       "      <th>WindowsDistribution_3</th>\n",
       "      <th>WindowsDistribution_4</th>\n",
       "      <th>WindowsDistribution_5</th>\n",
       "    </tr>\n",
       "  </thead>\n",
       "  <tbody>\n",
       "    <tr>\n",
       "      <th>0</th>\n",
       "      <td>0.98</td>\n",
       "      <td>514.5</td>\n",
       "      <td>294.0</td>\n",
       "      <td>110.25</td>\n",
       "      <td>7.0</td>\n",
       "      <td>0.0</td>\n",
       "      <td>1</td>\n",
       "      <td>0</td>\n",
       "      <td>0</td>\n",
       "      <td>0</td>\n",
       "      <td>1</td>\n",
       "      <td>0</td>\n",
       "      <td>0</td>\n",
       "      <td>0</td>\n",
       "      <td>0</td>\n",
       "      <td>0</td>\n",
       "    </tr>\n",
       "    <tr>\n",
       "      <th>1</th>\n",
       "      <td>0.98</td>\n",
       "      <td>514.5</td>\n",
       "      <td>294.0</td>\n",
       "      <td>110.25</td>\n",
       "      <td>7.0</td>\n",
       "      <td>0.0</td>\n",
       "      <td>0</td>\n",
       "      <td>1</td>\n",
       "      <td>0</td>\n",
       "      <td>0</td>\n",
       "      <td>1</td>\n",
       "      <td>0</td>\n",
       "      <td>0</td>\n",
       "      <td>0</td>\n",
       "      <td>0</td>\n",
       "      <td>0</td>\n",
       "    </tr>\n",
       "    <tr>\n",
       "      <th>2</th>\n",
       "      <td>0.98</td>\n",
       "      <td>514.5</td>\n",
       "      <td>294.0</td>\n",
       "      <td>110.25</td>\n",
       "      <td>7.0</td>\n",
       "      <td>0.0</td>\n",
       "      <td>0</td>\n",
       "      <td>0</td>\n",
       "      <td>1</td>\n",
       "      <td>0</td>\n",
       "      <td>1</td>\n",
       "      <td>0</td>\n",
       "      <td>0</td>\n",
       "      <td>0</td>\n",
       "      <td>0</td>\n",
       "      <td>0</td>\n",
       "    </tr>\n",
       "    <tr>\n",
       "      <th>3</th>\n",
       "      <td>0.98</td>\n",
       "      <td>514.5</td>\n",
       "      <td>294.0</td>\n",
       "      <td>110.25</td>\n",
       "      <td>7.0</td>\n",
       "      <td>0.0</td>\n",
       "      <td>0</td>\n",
       "      <td>0</td>\n",
       "      <td>0</td>\n",
       "      <td>1</td>\n",
       "      <td>1</td>\n",
       "      <td>0</td>\n",
       "      <td>0</td>\n",
       "      <td>0</td>\n",
       "      <td>0</td>\n",
       "      <td>0</td>\n",
       "    </tr>\n",
       "    <tr>\n",
       "      <th>4</th>\n",
       "      <td>0.90</td>\n",
       "      <td>563.5</td>\n",
       "      <td>318.5</td>\n",
       "      <td>122.50</td>\n",
       "      <td>7.0</td>\n",
       "      <td>0.0</td>\n",
       "      <td>1</td>\n",
       "      <td>0</td>\n",
       "      <td>0</td>\n",
       "      <td>0</td>\n",
       "      <td>1</td>\n",
       "      <td>0</td>\n",
       "      <td>0</td>\n",
       "      <td>0</td>\n",
       "      <td>0</td>\n",
       "      <td>0</td>\n",
       "    </tr>\n",
       "  </tbody>\n",
       "</table>\n",
       "</div>"
      ],
      "text/plain": [
       "   Compactness  SurfaceArea  WallArea  RoofArea  Height  WindowsArea  \\\n",
       "0         0.98        514.5     294.0    110.25     7.0          0.0   \n",
       "1         0.98        514.5     294.0    110.25     7.0          0.0   \n",
       "2         0.98        514.5     294.0    110.25     7.0          0.0   \n",
       "3         0.98        514.5     294.0    110.25     7.0          0.0   \n",
       "4         0.90        563.5     318.5    122.50     7.0          0.0   \n",
       "\n",
       "   Orientation_2  Orientation_3  Orientation_4  Orientation_5  \\\n",
       "0              1              0              0              0   \n",
       "1              0              1              0              0   \n",
       "2              0              0              1              0   \n",
       "3              0              0              0              1   \n",
       "4              1              0              0              0   \n",
       "\n",
       "   WindowsDistribution_0  WindowsDistribution_1  WindowsDistribution_2  \\\n",
       "0                      1                      0                      0   \n",
       "1                      1                      0                      0   \n",
       "2                      1                      0                      0   \n",
       "3                      1                      0                      0   \n",
       "4                      1                      0                      0   \n",
       "\n",
       "   WindowsDistribution_3  WindowsDistribution_4  WindowsDistribution_5  \n",
       "0                      0                      0                      0  \n",
       "1                      0                      0                      0  \n",
       "2                      0                      0                      0  \n",
       "3                      0                      0                      0  \n",
       "4                      0                      0                      0  "
      ]
     },
     "execution_count": 11,
     "metadata": {},
     "output_type": "execute_result"
    }
   ],
   "source": [
    "X.head()"
   ]
  },
  {
   "cell_type": "code",
   "execution_count": 12,
   "id": "efb96b43",
   "metadata": {},
   "outputs": [
    {
     "data": {
      "text/plain": [
       "0      36.88\n",
       "1      36.88\n",
       "2      36.88\n",
       "3      36.88\n",
       "4      49.12\n",
       "       ...  \n",
       "763    39.28\n",
       "764    33.42\n",
       "765    33.55\n",
       "766    33.09\n",
       "767    32.67\n",
       "Name: CombinedLoad, Length: 768, dtype: float64"
      ]
     },
     "execution_count": 12,
     "metadata": {},
     "output_type": "execute_result"
    }
   ],
   "source": [
    "y = encoded['CombinedLoad']\n",
    "y"
   ]
  },
  {
   "cell_type": "markdown",
   "id": "41965662",
   "metadata": {},
   "source": [
    "<h3 class=\"ud-heading-md \">5. Normalize the feature data in preparation for training</h3>\n",
    "<p>Some models require all features to be normalized into comparable ranges of values in order to weight them evenly. Data with a Gaussian distribution should be standardized to a mean of 0 and variance of 1, but non-Gaussian data may be normalized to the range 0-1 by scaling it within its minimum and maximum values.<br><br>Plot a histogram of our feature columns in the <strong>X</strong> DataFrame to understand their distribution and apply the appropriate normalization scheme to them. Store the normalized data into a new DataFrame named <strong>X_scaled</strong>.</p>"
   ]
  },
  {
   "cell_type": "code",
   "execution_count": 17,
   "id": "e0dfd20c",
   "metadata": {},
   "outputs": [
    {
     "data": {
      "text/plain": [
       "array([[<Axes: title={'center': 'Compactness'}>,\n",
       "        <Axes: title={'center': 'SurfaceArea'}>],\n",
       "       [<Axes: title={'center': 'WallArea'}>,\n",
       "        <Axes: title={'center': 'RoofArea'}>],\n",
       "       [<Axes: title={'center': 'Height'}>,\n",
       "        <Axes: title={'center': 'WindowsArea'}>]], dtype=object)"
      ]
     },
     "execution_count": 17,
     "metadata": {},
     "output_type": "execute_result"
    },
    {
     "data": {
      "image/png": "[encoded data removed]",
      "text/plain": [
       "<Figure size 640x480 with 6 Axes>"
      ]
     },
     "metadata": {},
     "output_type": "display_data"
    }
   ],
   "source": [
    "X.hist(column=['Compactness', 'SurfaceArea', 'WallArea', 'RoofArea', 'Height', 'WindowsArea'])"
   ]
  },
  {
   "cell_type": "code",
   "execution_count": 22,
   "id": "9011a27b",
   "metadata": {},
   "outputs": [
    {
     "data": {
      "text/plain": [
       "array([[<Axes: title={'center': 'Compactness'}>,\n",
       "        <Axes: title={'center': 'SurfaceArea'}>],\n",
       "       [<Axes: title={'center': 'WallArea'}>,\n",
       "        <Axes: title={'center': 'RoofArea'}>],\n",
       "       [<Axes: title={'center': 'Height'}>,\n",
       "        <Axes: title={'center': 'WindowsArea'}>]], dtype=object)"
      ]
     },
     "execution_count": 22,
     "metadata": {},
     "output_type": "execute_result"
    },
    {
     "data": {
      "image/png": "[encoded data removed]",
      "text/plain": [
       "<Figure size 640x480 with 6 Axes>"
      ]
     },
     "metadata": {},
     "output_type": "display_data"
    }
   ],
   "source": [
    "X.hist(column=['Compactness', 'SurfaceArea', 'WallArea', 'RoofArea', 'Height', 'WindowsArea'], rwidth=0.8)"
   ]
  },
  {
   "cell_type": "code",
   "execution_count": 23,
   "id": "31bf3697",
   "metadata": {},
   "outputs": [],
   "source": [
    "''' We will choose to normalize these columns by scaling them into the range 0-1 prior to training. \n",
    "Use MinMaxScaler from scikit-learn to achieve this, and convert the resulting array back to a Pandas DataFrame.\n",
    "'''\n",
    "from sklearn.preprocessing import MinMaxScaler\n",
    " \n",
    "scaler = MinMaxScaler()\n",
    "X_scaled = pd.DataFrame(scaler.fit_transform(X))"
   ]
  },
  {
   "cell_type": "code",
   "execution_count": 24,
   "id": "bd3cb28c",
   "metadata": {},
   "outputs": [
    {
     "data": {
      "text/html": [
       "<div>\n",
       "<style scoped>\n",
       "    .dataframe tbody tr th:only-of-type {\n",
       "        vertical-align: middle;\n",
       "    }\n",
       "\n",
       "    .dataframe tbody tr th {\n",
       "        vertical-align: top;\n",
       "    }\n",
       "\n",
       "    .dataframe thead th {\n",
       "        text-align: right;\n",
       "    }\n",
       "</style>\n",
       "<table border=\"1\" class=\"dataframe\">\n",
       "  <thead>\n",
       "    <tr style=\"text-align: right;\">\n",
       "      <th></th>\n",
       "      <th>0</th>\n",
       "      <th>1</th>\n",
       "      <th>2</th>\n",
       "      <th>3</th>\n",
       "      <th>4</th>\n",
       "      <th>5</th>\n",
       "      <th>6</th>\n",
       "      <th>7</th>\n",
       "      <th>8</th>\n",
       "      <th>9</th>\n",
       "      <th>10</th>\n",
       "      <th>11</th>\n",
       "      <th>12</th>\n",
       "      <th>13</th>\n",
       "      <th>14</th>\n",
       "      <th>15</th>\n",
       "    </tr>\n",
       "  </thead>\n",
       "  <tbody>\n",
       "    <tr>\n",
       "      <th>0</th>\n",
       "      <td>1.000000</td>\n",
       "      <td>0.000000</td>\n",
       "      <td>0.285714</td>\n",
       "      <td>0.000000</td>\n",
       "      <td>1.0</td>\n",
       "      <td>0.00</td>\n",
       "      <td>1.0</td>\n",
       "      <td>0.0</td>\n",
       "      <td>0.0</td>\n",
       "      <td>0.0</td>\n",
       "      <td>1.0</td>\n",
       "      <td>0.0</td>\n",
       "      <td>0.0</td>\n",
       "      <td>0.0</td>\n",
       "      <td>0.0</td>\n",
       "      <td>0.0</td>\n",
       "    </tr>\n",
       "    <tr>\n",
       "      <th>1</th>\n",
       "      <td>1.000000</td>\n",
       "      <td>0.000000</td>\n",
       "      <td>0.285714</td>\n",
       "      <td>0.000000</td>\n",
       "      <td>1.0</td>\n",
       "      <td>0.00</td>\n",
       "      <td>0.0</td>\n",
       "      <td>1.0</td>\n",
       "      <td>0.0</td>\n",
       "      <td>0.0</td>\n",
       "      <td>1.0</td>\n",
       "      <td>0.0</td>\n",
       "      <td>0.0</td>\n",
       "      <td>0.0</td>\n",
       "      <td>0.0</td>\n",
       "      <td>0.0</td>\n",
       "    </tr>\n",
       "    <tr>\n",
       "      <th>2</th>\n",
       "      <td>1.000000</td>\n",
       "      <td>0.000000</td>\n",
       "      <td>0.285714</td>\n",
       "      <td>0.000000</td>\n",
       "      <td>1.0</td>\n",
       "      <td>0.00</td>\n",
       "      <td>0.0</td>\n",
       "      <td>0.0</td>\n",
       "      <td>1.0</td>\n",
       "      <td>0.0</td>\n",
       "      <td>1.0</td>\n",
       "      <td>0.0</td>\n",
       "      <td>0.0</td>\n",
       "      <td>0.0</td>\n",
       "      <td>0.0</td>\n",
       "      <td>0.0</td>\n",
       "    </tr>\n",
       "    <tr>\n",
       "      <th>3</th>\n",
       "      <td>1.000000</td>\n",
       "      <td>0.000000</td>\n",
       "      <td>0.285714</td>\n",
       "      <td>0.000000</td>\n",
       "      <td>1.0</td>\n",
       "      <td>0.00</td>\n",
       "      <td>0.0</td>\n",
       "      <td>0.0</td>\n",
       "      <td>0.0</td>\n",
       "      <td>1.0</td>\n",
       "      <td>1.0</td>\n",
       "      <td>0.0</td>\n",
       "      <td>0.0</td>\n",
       "      <td>0.0</td>\n",
       "      <td>0.0</td>\n",
       "      <td>0.0</td>\n",
       "    </tr>\n",
       "    <tr>\n",
       "      <th>4</th>\n",
       "      <td>0.777778</td>\n",
       "      <td>0.166667</td>\n",
       "      <td>0.428571</td>\n",
       "      <td>0.111111</td>\n",
       "      <td>1.0</td>\n",
       "      <td>0.00</td>\n",
       "      <td>1.0</td>\n",
       "      <td>0.0</td>\n",
       "      <td>0.0</td>\n",
       "      <td>0.0</td>\n",
       "      <td>1.0</td>\n",
       "      <td>0.0</td>\n",
       "      <td>0.0</td>\n",
       "      <td>0.0</td>\n",
       "      <td>0.0</td>\n",
       "      <td>0.0</td>\n",
       "    </tr>\n",
       "    <tr>\n",
       "      <th>...</th>\n",
       "      <td>...</td>\n",
       "      <td>...</td>\n",
       "      <td>...</td>\n",
       "      <td>...</td>\n",
       "      <td>...</td>\n",
       "      <td>...</td>\n",
       "      <td>...</td>\n",
       "      <td>...</td>\n",
       "      <td>...</td>\n",
       "      <td>...</td>\n",
       "      <td>...</td>\n",
       "      <td>...</td>\n",
       "      <td>...</td>\n",
       "      <td>...</td>\n",
       "      <td>...</td>\n",
       "      <td>...</td>\n",
       "    </tr>\n",
       "    <tr>\n",
       "      <th>95</th>\n",
       "      <td>0.000000</td>\n",
       "      <td>1.000000</td>\n",
       "      <td>0.714286</td>\n",
       "      <td>1.000000</td>\n",
       "      <td>0.0</td>\n",
       "      <td>0.25</td>\n",
       "      <td>0.0</td>\n",
       "      <td>0.0</td>\n",
       "      <td>0.0</td>\n",
       "      <td>1.0</td>\n",
       "      <td>0.0</td>\n",
       "      <td>1.0</td>\n",
       "      <td>0.0</td>\n",
       "      <td>0.0</td>\n",
       "      <td>0.0</td>\n",
       "      <td>0.0</td>\n",
       "    </tr>\n",
       "    <tr>\n",
       "      <th>96</th>\n",
       "      <td>1.000000</td>\n",
       "      <td>0.000000</td>\n",
       "      <td>0.285714</td>\n",
       "      <td>0.000000</td>\n",
       "      <td>1.0</td>\n",
       "      <td>0.25</td>\n",
       "      <td>1.0</td>\n",
       "      <td>0.0</td>\n",
       "      <td>0.0</td>\n",
       "      <td>0.0</td>\n",
       "      <td>0.0</td>\n",
       "      <td>0.0</td>\n",
       "      <td>1.0</td>\n",
       "      <td>0.0</td>\n",
       "      <td>0.0</td>\n",
       "      <td>0.0</td>\n",
       "    </tr>\n",
       "    <tr>\n",
       "      <th>97</th>\n",
       "      <td>1.000000</td>\n",
       "      <td>0.000000</td>\n",
       "      <td>0.285714</td>\n",
       "      <td>0.000000</td>\n",
       "      <td>1.0</td>\n",
       "      <td>0.25</td>\n",
       "      <td>0.0</td>\n",
       "      <td>1.0</td>\n",
       "      <td>0.0</td>\n",
       "      <td>0.0</td>\n",
       "      <td>0.0</td>\n",
       "      <td>0.0</td>\n",
       "      <td>1.0</td>\n",
       "      <td>0.0</td>\n",
       "      <td>0.0</td>\n",
       "      <td>0.0</td>\n",
       "    </tr>\n",
       "    <tr>\n",
       "      <th>98</th>\n",
       "      <td>1.000000</td>\n",
       "      <td>0.000000</td>\n",
       "      <td>0.285714</td>\n",
       "      <td>0.000000</td>\n",
       "      <td>1.0</td>\n",
       "      <td>0.25</td>\n",
       "      <td>0.0</td>\n",
       "      <td>0.0</td>\n",
       "      <td>1.0</td>\n",
       "      <td>0.0</td>\n",
       "      <td>0.0</td>\n",
       "      <td>0.0</td>\n",
       "      <td>1.0</td>\n",
       "      <td>0.0</td>\n",
       "      <td>0.0</td>\n",
       "      <td>0.0</td>\n",
       "    </tr>\n",
       "    <tr>\n",
       "      <th>99</th>\n",
       "      <td>1.000000</td>\n",
       "      <td>0.000000</td>\n",
       "      <td>0.285714</td>\n",
       "      <td>0.000000</td>\n",
       "      <td>1.0</td>\n",
       "      <td>0.25</td>\n",
       "      <td>0.0</td>\n",
       "      <td>0.0</td>\n",
       "      <td>0.0</td>\n",
       "      <td>1.0</td>\n",
       "      <td>0.0</td>\n",
       "      <td>0.0</td>\n",
       "      <td>1.0</td>\n",
       "      <td>0.0</td>\n",
       "      <td>0.0</td>\n",
       "      <td>0.0</td>\n",
       "    </tr>\n",
       "  </tbody>\n",
       "</table>\n",
       "<p>100 rows × 16 columns</p>\n",
       "</div>"
      ],
      "text/plain": [
       "          0         1         2         3    4     5    6    7    8    9   \\\n",
       "0   1.000000  0.000000  0.285714  0.000000  1.0  0.00  1.0  0.0  0.0  0.0   \n",
       "1   1.000000  0.000000  0.285714  0.000000  1.0  0.00  0.0  1.0  0.0  0.0   \n",
       "2   1.000000  0.000000  0.285714  0.000000  1.0  0.00  0.0  0.0  1.0  0.0   \n",
       "3   1.000000  0.000000  0.285714  0.000000  1.0  0.00  0.0  0.0  0.0  1.0   \n",
       "4   0.777778  0.166667  0.428571  0.111111  1.0  0.00  1.0  0.0  0.0  0.0   \n",
       "..       ...       ...       ...       ...  ...   ...  ...  ...  ...  ...   \n",
       "95  0.000000  1.000000  0.714286  1.000000  0.0  0.25  0.0  0.0  0.0  1.0   \n",
       "96  1.000000  0.000000  0.285714  0.000000  1.0  0.25  1.0  0.0  0.0  0.0   \n",
       "97  1.000000  0.000000  0.285714  0.000000  1.0  0.25  0.0  1.0  0.0  0.0   \n",
       "98  1.000000  0.000000  0.285714  0.000000  1.0  0.25  0.0  0.0  1.0  0.0   \n",
       "99  1.000000  0.000000  0.285714  0.000000  1.0  0.25  0.0  0.0  0.0  1.0   \n",
       "\n",
       "     10   11   12   13   14   15  \n",
       "0   1.0  0.0  0.0  0.0  0.0  0.0  \n",
       "1   1.0  0.0  0.0  0.0  0.0  0.0  \n",
       "2   1.0  0.0  0.0  0.0  0.0  0.0  \n",
       "3   1.0  0.0  0.0  0.0  0.0  0.0  \n",
       "4   1.0  0.0  0.0  0.0  0.0  0.0  \n",
       "..  ...  ...  ...  ...  ...  ...  \n",
       "95  0.0  1.0  0.0  0.0  0.0  0.0  \n",
       "96  0.0  0.0  1.0  0.0  0.0  0.0  \n",
       "97  0.0  0.0  1.0  0.0  0.0  0.0  \n",
       "98  0.0  0.0  1.0  0.0  0.0  0.0  \n",
       "99  0.0  0.0  1.0  0.0  0.0  0.0  \n",
       "\n",
       "[100 rows x 16 columns]"
      ]
     },
     "execution_count": 24,
     "metadata": {},
     "output_type": "execute_result"
    }
   ],
   "source": [
    "X_scaled.head(100)"
   ]
  },
  {
   "cell_type": "markdown",
   "id": "0617c246",
   "metadata": {},
   "source": [
    "<h3 class=\"ud-heading-md \">6. Split our prepared data into training and testing sets</h3>\n",
    "<p>Split our feature data <strong>X_scaled </strong>and label data <strong>y</strong> into randomly split data sets for training and testing our machine learning models.&nbsp; Set aside 20% of the data for testing. The resulting data sets should be named <strong>X_train</strong>, <strong>X_test</strong>, <strong>y_train</strong>, and <strong>y_test</strong>. Perform the split with a random seed value of <strong>1234 </strong>to ensure consistent results.</p>"
   ]
  },
  {
   "cell_type": "code",
   "execution_count": 25,
   "id": "8a79468c",
   "metadata": {},
   "outputs": [],
   "source": [
    "from sklearn.model_selection import train_test_split"
   ]
  },
  {
   "cell_type": "code",
   "execution_count": 26,
   "id": "64a9d891",
   "metadata": {},
   "outputs": [],
   "source": [
    "X_train, X_test, y_train, y_test = train_test_split(X_scaled, y, test_size=0.2, random_state=1234)"
   ]
  },
  {
   "cell_type": "markdown",
   "id": "4b2542de",
   "metadata": {},
   "source": [
    "<h3 class=\"ud-heading-md challenge-description--header--egzgp\">7. Train and evaluate a linear regression model</h3><br/>\n",
    "<div data-purpose=\"safely-set-inner-html:rich-text-viewer:html\" class=\"lab-rich-text-viewer--lab-html-content--22XsM rt-scaffolding\"><p>Train a <strong>LinearRegression </strong>model using our training data sets <strong>X_train </strong>and <strong>y_train</strong> and evaluate its performance on predicting energy loads for <strong>X_test </strong>against the labels <strong>y_test</strong>.</p><p>Report the model's performance using mean squared error (<strong>MSE</strong>), mean absolute error (<strong>MAE</strong>), and root mean squared error (<strong>RMSE</strong>).</p></div>"
   ]
  },
  {
   "cell_type": "code",
   "execution_count": 27,
   "id": "5b6661ad",
   "metadata": {},
   "outputs": [],
   "source": [
    "from sklearn.linear_model import LinearRegression\n",
    " \n",
    "model = LinearRegression()"
   ]
  },
  {
   "cell_type": "code",
   "execution_count": 28,
   "id": "bea32606",
   "metadata": {},
   "outputs": [
    {
     "data": {
      "text/html": [
       "<style>#sk-container-id-1 {color: black;background-color: white;}#sk-container-id-1 pre{padding: 0;}#sk-container-id-1 div.sk-toggleable {background-color: white;}#sk-container-id-1 label.sk-toggleable__label {cursor: pointer;display: block;width: 100%;margin-bottom: 0;padding: 0.3em;box-sizing: border-box;text-align: center;}#sk-container-id-1 label.sk-toggleable__label-arrow:before {content: \"▸\";float: left;margin-right: 0.25em;color: #696969;}#sk-container-id-1 label.sk-toggleable__label-arrow:hover:before {color: black;}#sk-container-id-1 div.sk-estimator:hover label.sk-toggleable__label-arrow:before {color: black;}#sk-container-id-1 div.sk-toggleable__content {max-height: 0;max-width: 0;overflow: hidden;text-align: left;background-color: #f0f8ff;}#sk-container-id-1 div.sk-toggleable__content pre {margin: 0.2em;color: black;border-radius: 0.25em;background-color: #f0f8ff;}#sk-container-id-1 input.sk-toggleable__control:checked~div.sk-toggleable__content {max-height: 200px;max-width: 100%;overflow: auto;}#sk-container-id-1 input.sk-toggleable__control:checked~label.sk-toggleable__label-arrow:before {content: \"▾\";}#sk-container-id-1 div.sk-estimator input.sk-toggleable__control:checked~label.sk-toggleable__label {background-color: #d4ebff;}#sk-container-id-1 div.sk-label input.sk-toggleable__control:checked~label.sk-toggleable__label {background-color: #d4ebff;}#sk-container-id-1 input.sk-hidden--visually {border: 0;clip: rect(1px 1px 1px 1px);clip: rect(1px, 1px, 1px, 1px);height: 1px;margin: -1px;overflow: hidden;padding: 0;position: absolute;width: 1px;}#sk-container-id-1 div.sk-estimator {font-family: monospace;background-color: #f0f8ff;border: 1px dotted black;border-radius: 0.25em;box-sizing: border-box;margin-bottom: 0.5em;}#sk-container-id-1 div.sk-estimator:hover {background-color: #d4ebff;}#sk-container-id-1 div.sk-parallel-item::after {content: \"\";width: 100%;border-bottom: 1px solid gray;flex-grow: 1;}#sk-container-id-1 div.sk-label:hover label.sk-toggleable__label {background-color: #d4ebff;}#sk-container-id-1 div.sk-serial::before {content: \"\";position: absolute;border-left: 1px solid gray;box-sizing: border-box;top: 0;bottom: 0;left: 50%;z-index: 0;}#sk-container-id-1 div.sk-serial {display: flex;flex-direction: column;align-items: center;background-color: white;padding-right: 0.2em;padding-left: 0.2em;position: relative;}#sk-container-id-1 div.sk-item {position: relative;z-index: 1;}#sk-container-id-1 div.sk-parallel {display: flex;align-items: stretch;justify-content: center;background-color: white;position: relative;}#sk-container-id-1 div.sk-item::before, #sk-container-id-1 div.sk-parallel-item::before {content: \"\";position: absolute;border-left: 1px solid gray;box-sizing: border-box;top: 0;bottom: 0;left: 50%;z-index: -1;}#sk-container-id-1 div.sk-parallel-item {display: flex;flex-direction: column;z-index: 1;position: relative;background-color: white;}#sk-container-id-1 div.sk-parallel-item:first-child::after {align-self: flex-end;width: 50%;}#sk-container-id-1 div.sk-parallel-item:last-child::after {align-self: flex-start;width: 50%;}#sk-container-id-1 div.sk-parallel-item:only-child::after {width: 0;}#sk-container-id-1 div.sk-dashed-wrapped {border: 1px dashed gray;margin: 0 0.4em 0.5em 0.4em;box-sizing: border-box;padding-bottom: 0.4em;background-color: white;}#sk-container-id-1 div.sk-label label {font-family: monospace;font-weight: bold;display: inline-block;line-height: 1.2em;}#sk-container-id-1 div.sk-label-container {text-align: center;}#sk-container-id-1 div.sk-container {/* jupyter's `normalize.less` sets `[hidden] { display: none; }` but bootstrap.min.css set `[hidden] { display: none !important; }` so we also need the `!important` here to be able to override the default hidden behavior on the sphinx rendered scikit-learn.org. See: https://github.com/scikit-learn/scikit-learn/issues/21755 */display: inline-block !important;position: relative;}#sk-container-id-1 div.sk-text-repr-fallback {display: none;}</style><div id=\"sk-container-id-1\" class=\"sk-top-container\"><div class=\"sk-text-repr-fallback\"><pre>LinearRegression()</pre><b>In a Jupyter environment, please rerun this cell to show the HTML representation or trust the notebook. <br />On GitHub, the HTML representation is unable to render, please try loading this page with nbviewer.org.</b></div><div class=\"sk-container\" hidden><div class=\"sk-item\"><div class=\"sk-estimator sk-toggleable\"><input class=\"sk-toggleable__control sk-hidden--visually\" id=\"sk-estimator-id-1\" type=\"checkbox\" checked><label for=\"sk-estimator-id-1\" class=\"sk-toggleable__label sk-toggleable__label-arrow\">LinearRegression</label><div class=\"sk-toggleable__content\"><pre>LinearRegression()</pre></div></div></div></div></div>"
      ],
      "text/plain": [
       "LinearRegression()"
      ]
     },
     "execution_count": 28,
     "metadata": {},
     "output_type": "execute_result"
    }
   ],
   "source": [
    "model.fit(X_train, y_train)"
   ]
  },
  {
   "cell_type": "markdown",
   "id": "d49ccd87",
   "metadata": {},
   "source": [
    "Report the model's performance using mean squared error (MSE), mean absolute error (MAE), and root mean squared error (RMSE).\n",
    "<p>Use <strong>predict </strong>on the model to generate predictions from&nbsp;<strong>X_test</strong> and measure its accuracy against <strong>y_test </strong>using <strong>mean_squared_error </strong>and <strong>mean_absolute_error </strong>from scikit-learn. Compute RMSE from the square root of MSE.<br></p>"
   ]
  },
  {
   "cell_type": "code",
   "execution_count": 29,
   "id": "b28abe89",
   "metadata": {},
   "outputs": [
    {
     "name": "stdout",
     "output_type": "stream",
     "text": [
      "Testing mse =  30.377885714285718  mae =  4.075064935064935  rmse =  5.511613712360992\n"
     ]
    }
   ],
   "source": [
    "from sklearn.metrics import mean_squared_error\n",
    "from sklearn.metrics import mean_absolute_error\n",
    " \n",
    "test_mse = mean_squared_error(y_test, model.predict(X_test))\n",
    "test_mae = mean_absolute_error(y_test, model.predict(X_test))\n",
    "test_rmse = test_mse ** 0.5\n",
    " \n",
    "print(\"Testing mse = \", test_mse, \" mae = \", test_mae, \" rmse = \", test_rmse)"
   ]
  },
  {
   "cell_type": "markdown",
   "id": "52ea5b9c",
   "metadata": {},
   "source": [
    "<h3 class=\"ud-heading-md \">8. Train and evaluate a decision tree regressor model</h3>\n",
    "<div data-purpose=\"safely-set-inner-html:rich-text-viewer:html\" class=\"lab-rich-text-viewer--lab-html-content--22XsM rt-scaffolding\"><p>Train a <strong>DecisionTreeRegressor </strong>model using our training data sets <strong>X_train </strong>and <strong>y_train</strong> and evaluate its performance on predicting energy loads for <strong>X_test </strong>against the labels <strong>y_test</strong>. To ensure consistent results, specify a <strong>random_state </strong>of <strong>1234</strong>.</p><p>Report the model's performance using mean squared error (<strong>MSE</strong>), mean absolute error (<strong>MAE</strong>), and root mean squared error (<strong>RMSE</strong>.).</p></div>"
   ]
  },
  {
   "cell_type": "code",
   "execution_count": 30,
   "id": "54cebe7d",
   "metadata": {},
   "outputs": [],
   "source": [
    "from sklearn.tree import DecisionTreeRegressor\n",
    " \n",
    "tree_model = DecisionTreeRegressor(random_state=1234)"
   ]
  },
  {
   "cell_type": "code",
   "execution_count": 31,
   "id": "41a38861",
   "metadata": {},
   "outputs": [
    {
     "data": {
      "text/html": [
       "<style>#sk-container-id-2 {color: black;background-color: white;}#sk-container-id-2 pre{padding: 0;}#sk-container-id-2 div.sk-toggleable {background-color: white;}#sk-container-id-2 label.sk-toggleable__label {cursor: pointer;display: block;width: 100%;margin-bottom: 0;padding: 0.3em;box-sizing: border-box;text-align: center;}#sk-container-id-2 label.sk-toggleable__label-arrow:before {content: \"▸\";float: left;margin-right: 0.25em;color: #696969;}#sk-container-id-2 label.sk-toggleable__label-arrow:hover:before {color: black;}#sk-container-id-2 div.sk-estimator:hover label.sk-toggleable__label-arrow:before {color: black;}#sk-container-id-2 div.sk-toggleable__content {max-height: 0;max-width: 0;overflow: hidden;text-align: left;background-color: #f0f8ff;}#sk-container-id-2 div.sk-toggleable__content pre {margin: 0.2em;color: black;border-radius: 0.25em;background-color: #f0f8ff;}#sk-container-id-2 input.sk-toggleable__control:checked~div.sk-toggleable__content {max-height: 200px;max-width: 100%;overflow: auto;}#sk-container-id-2 input.sk-toggleable__control:checked~label.sk-toggleable__label-arrow:before {content: \"▾\";}#sk-container-id-2 div.sk-estimator input.sk-toggleable__control:checked~label.sk-toggleable__label {background-color: #d4ebff;}#sk-container-id-2 div.sk-label input.sk-toggleable__control:checked~label.sk-toggleable__label {background-color: #d4ebff;}#sk-container-id-2 input.sk-hidden--visually {border: 0;clip: rect(1px 1px 1px 1px);clip: rect(1px, 1px, 1px, 1px);height: 1px;margin: -1px;overflow: hidden;padding: 0;position: absolute;width: 1px;}#sk-container-id-2 div.sk-estimator {font-family: monospace;background-color: #f0f8ff;border: 1px dotted black;border-radius: 0.25em;box-sizing: border-box;margin-bottom: 0.5em;}#sk-container-id-2 div.sk-estimator:hover {background-color: #d4ebff;}#sk-container-id-2 div.sk-parallel-item::after {content: \"\";width: 100%;border-bottom: 1px solid gray;flex-grow: 1;}#sk-container-id-2 div.sk-label:hover label.sk-toggleable__label {background-color: #d4ebff;}#sk-container-id-2 div.sk-serial::before {content: \"\";position: absolute;border-left: 1px solid gray;box-sizing: border-box;top: 0;bottom: 0;left: 50%;z-index: 0;}#sk-container-id-2 div.sk-serial {display: flex;flex-direction: column;align-items: center;background-color: white;padding-right: 0.2em;padding-left: 0.2em;position: relative;}#sk-container-id-2 div.sk-item {position: relative;z-index: 1;}#sk-container-id-2 div.sk-parallel {display: flex;align-items: stretch;justify-content: center;background-color: white;position: relative;}#sk-container-id-2 div.sk-item::before, #sk-container-id-2 div.sk-parallel-item::before {content: \"\";position: absolute;border-left: 1px solid gray;box-sizing: border-box;top: 0;bottom: 0;left: 50%;z-index: -1;}#sk-container-id-2 div.sk-parallel-item {display: flex;flex-direction: column;z-index: 1;position: relative;background-color: white;}#sk-container-id-2 div.sk-parallel-item:first-child::after {align-self: flex-end;width: 50%;}#sk-container-id-2 div.sk-parallel-item:last-child::after {align-self: flex-start;width: 50%;}#sk-container-id-2 div.sk-parallel-item:only-child::after {width: 0;}#sk-container-id-2 div.sk-dashed-wrapped {border: 1px dashed gray;margin: 0 0.4em 0.5em 0.4em;box-sizing: border-box;padding-bottom: 0.4em;background-color: white;}#sk-container-id-2 div.sk-label label {font-family: monospace;font-weight: bold;display: inline-block;line-height: 1.2em;}#sk-container-id-2 div.sk-label-container {text-align: center;}#sk-container-id-2 div.sk-container {/* jupyter's `normalize.less` sets `[hidden] { display: none; }` but bootstrap.min.css set `[hidden] { display: none !important; }` so we also need the `!important` here to be able to override the default hidden behavior on the sphinx rendered scikit-learn.org. See: https://github.com/scikit-learn/scikit-learn/issues/21755 */display: inline-block !important;position: relative;}#sk-container-id-2 div.sk-text-repr-fallback {display: none;}</style><div id=\"sk-container-id-2\" class=\"sk-top-container\"><div class=\"sk-text-repr-fallback\"><pre>DecisionTreeRegressor(random_state=1234)</pre><b>In a Jupyter environment, please rerun this cell to show the HTML representation or trust the notebook. <br />On GitHub, the HTML representation is unable to render, please try loading this page with nbviewer.org.</b></div><div class=\"sk-container\" hidden><div class=\"sk-item\"><div class=\"sk-estimator sk-toggleable\"><input class=\"sk-toggleable__control sk-hidden--visually\" id=\"sk-estimator-id-2\" type=\"checkbox\" checked><label for=\"sk-estimator-id-2\" class=\"sk-toggleable__label sk-toggleable__label-arrow\">DecisionTreeRegressor</label><div class=\"sk-toggleable__content\"><pre>DecisionTreeRegressor(random_state=1234)</pre></div></div></div></div></div>"
      ],
      "text/plain": [
       "DecisionTreeRegressor(random_state=1234)"
      ]
     },
     "execution_count": 31,
     "metadata": {},
     "output_type": "execute_result"
    }
   ],
   "source": [
    "tree_model.fit(X_train, y_train)"
   ]
  },
  {
   "cell_type": "code",
   "execution_count": 32,
   "id": "57cc2c54",
   "metadata": {},
   "outputs": [
    {
     "name": "stdout",
     "output_type": "stream",
     "text": [
      "Testing mse =  4.424222077922075  mae =  1.2259740259740257  rmse =  2.103383483324445\n"
     ]
    }
   ],
   "source": [
    "test_mse = mean_squared_error(y_test, tree_model.predict(X_test))\n",
    "test_mae = mean_absolute_error(y_test, tree_model.predict(X_test))\n",
    "test_rmse = test_mse ** 0.5\n",
    " \n",
    "print(\"Testing mse = \", test_mse, \" mae = \", test_mae, \" rmse = \", test_rmse)"
   ]
  },
  {
   "cell_type": "markdown",
   "id": "d7bdef96",
   "metadata": {},
   "source": [
    "<h3 class=\"ud-heading-md \">9. Train and evaluate a random forest regressor model</h3>\n",
    "<div data-purpose=\"safely-set-inner-html:rich-text-viewer:html\" class=\"lab-rich-text-viewer--lab-html-content--22XsM rt-scaffolding\"><p>Train a <strong>RandomForestRegressor </strong>model using our training data sets <strong>X_train </strong>and <strong>y_train</strong> and evaluate its performance on predicting energy loads for <strong>X_test </strong>against the labels <strong>y_test</strong>. To ensure consistent results, specify a <strong>random_state </strong>of <strong>1234</strong>.</p><p>Report the model's performance using mean squared error (<strong>MSE</strong>), mean absolute error (<strong>MAE</strong>), and root mean squared error (<strong>RMSE</strong>).</p></div>"
   ]
  },
  {
   "cell_type": "code",
   "execution_count": 33,
   "id": "bd928d55",
   "metadata": {},
   "outputs": [],
   "source": [
    "from sklearn.ensemble import RandomForestRegressor\n",
    " \n",
    "forest_model = RandomForestRegressor(random_state=1234)"
   ]
  },
  {
   "cell_type": "code",
   "execution_count": 34,
   "id": "e9542aeb",
   "metadata": {},
   "outputs": [
    {
     "data": {
      "text/html": [
       "<style>#sk-container-id-3 {color: black;background-color: white;}#sk-container-id-3 pre{padding: 0;}#sk-container-id-3 div.sk-toggleable {background-color: white;}#sk-container-id-3 label.sk-toggleable__label {cursor: pointer;display: block;width: 100%;margin-bottom: 0;padding: 0.3em;box-sizing: border-box;text-align: center;}#sk-container-id-3 label.sk-toggleable__label-arrow:before {content: \"▸\";float: left;margin-right: 0.25em;color: #696969;}#sk-container-id-3 label.sk-toggleable__label-arrow:hover:before {color: black;}#sk-container-id-3 div.sk-estimator:hover label.sk-toggleable__label-arrow:before {color: black;}#sk-container-id-3 div.sk-toggleable__content {max-height: 0;max-width: 0;overflow: hidden;text-align: left;background-color: #f0f8ff;}#sk-container-id-3 div.sk-toggleable__content pre {margin: 0.2em;color: black;border-radius: 0.25em;background-color: #f0f8ff;}#sk-container-id-3 input.sk-toggleable__control:checked~div.sk-toggleable__content {max-height: 200px;max-width: 100%;overflow: auto;}#sk-container-id-3 input.sk-toggleable__control:checked~label.sk-toggleable__label-arrow:before {content: \"▾\";}#sk-container-id-3 div.sk-estimator input.sk-toggleable__control:checked~label.sk-toggleable__label {background-color: #d4ebff;}#sk-container-id-3 div.sk-label input.sk-toggleable__control:checked~label.sk-toggleable__label {background-color: #d4ebff;}#sk-container-id-3 input.sk-hidden--visually {border: 0;clip: rect(1px 1px 1px 1px);clip: rect(1px, 1px, 1px, 1px);height: 1px;margin: -1px;overflow: hidden;padding: 0;position: absolute;width: 1px;}#sk-container-id-3 div.sk-estimator {font-family: monospace;background-color: #f0f8ff;border: 1px dotted black;border-radius: 0.25em;box-sizing: border-box;margin-bottom: 0.5em;}#sk-container-id-3 div.sk-estimator:hover {background-color: #d4ebff;}#sk-container-id-3 div.sk-parallel-item::after {content: \"\";width: 100%;border-bottom: 1px solid gray;flex-grow: 1;}#sk-container-id-3 div.sk-label:hover label.sk-toggleable__label {background-color: #d4ebff;}#sk-container-id-3 div.sk-serial::before {content: \"\";position: absolute;border-left: 1px solid gray;box-sizing: border-box;top: 0;bottom: 0;left: 50%;z-index: 0;}#sk-container-id-3 div.sk-serial {display: flex;flex-direction: column;align-items: center;background-color: white;padding-right: 0.2em;padding-left: 0.2em;position: relative;}#sk-container-id-3 div.sk-item {position: relative;z-index: 1;}#sk-container-id-3 div.sk-parallel {display: flex;align-items: stretch;justify-content: center;background-color: white;position: relative;}#sk-container-id-3 div.sk-item::before, #sk-container-id-3 div.sk-parallel-item::before {content: \"\";position: absolute;border-left: 1px solid gray;box-sizing: border-box;top: 0;bottom: 0;left: 50%;z-index: -1;}#sk-container-id-3 div.sk-parallel-item {display: flex;flex-direction: column;z-index: 1;position: relative;background-color: white;}#sk-container-id-3 div.sk-parallel-item:first-child::after {align-self: flex-end;width: 50%;}#sk-container-id-3 div.sk-parallel-item:last-child::after {align-self: flex-start;width: 50%;}#sk-container-id-3 div.sk-parallel-item:only-child::after {width: 0;}#sk-container-id-3 div.sk-dashed-wrapped {border: 1px dashed gray;margin: 0 0.4em 0.5em 0.4em;box-sizing: border-box;padding-bottom: 0.4em;background-color: white;}#sk-container-id-3 div.sk-label label {font-family: monospace;font-weight: bold;display: inline-block;line-height: 1.2em;}#sk-container-id-3 div.sk-label-container {text-align: center;}#sk-container-id-3 div.sk-container {/* jupyter's `normalize.less` sets `[hidden] { display: none; }` but bootstrap.min.css set `[hidden] { display: none !important; }` so we also need the `!important` here to be able to override the default hidden behavior on the sphinx rendered scikit-learn.org. See: https://github.com/scikit-learn/scikit-learn/issues/21755 */display: inline-block !important;position: relative;}#sk-container-id-3 div.sk-text-repr-fallback {display: none;}</style><div id=\"sk-container-id-3\" class=\"sk-top-container\"><div class=\"sk-text-repr-fallback\"><pre>RandomForestRegressor(random_state=1234)</pre><b>In a Jupyter environment, please rerun this cell to show the HTML representation or trust the notebook. <br />On GitHub, the HTML representation is unable to render, please try loading this page with nbviewer.org.</b></div><div class=\"sk-container\" hidden><div class=\"sk-item\"><div class=\"sk-estimator sk-toggleable\"><input class=\"sk-toggleable__control sk-hidden--visually\" id=\"sk-estimator-id-3\" type=\"checkbox\" checked><label for=\"sk-estimator-id-3\" class=\"sk-toggleable__label sk-toggleable__label-arrow\">RandomForestRegressor</label><div class=\"sk-toggleable__content\"><pre>RandomForestRegressor(random_state=1234)</pre></div></div></div></div></div>"
      ],
      "text/plain": [
       "RandomForestRegressor(random_state=1234)"
      ]
     },
     "execution_count": 34,
     "metadata": {},
     "output_type": "execute_result"
    }
   ],
   "source": [
    "forest_model.fit(X_train, y_train)"
   ]
  },
  {
   "cell_type": "code",
   "execution_count": 35,
   "id": "63b3e77f",
   "metadata": {},
   "outputs": [
    {
     "name": "stdout",
     "output_type": "stream",
     "text": [
      "Testing mse =  2.8172801671428482  mae =  1.0998155844155841  rmse =  1.6784755485686553\n"
     ]
    }
   ],
   "source": [
    "test_mse = mean_squared_error(y_test, forest_model.predict(X_test))\n",
    "test_mae = mean_absolute_error(y_test, forest_model.predict(X_test))\n",
    "test_rmse = test_mse ** 0.5\n",
    " \n",
    "print(\"Testing mse = \", test_mse, \" mae = \", test_mae, \" rmse = \", test_rmse)"
   ]
  },
  {
   "cell_type": "markdown",
   "id": "13f6f62c",
   "metadata": {},
   "source": [
    "<h3 class=\"ud-heading-md \">10. Perform a grid search for the best random forest hyperparameters and apply them</h3>\n",
    "<div data-purpose=\"safely-set-inner-html:rich-text-viewer:html\" class=\"lab-rich-text-viewer--lab-html-content--22XsM rt-scaffolding\"><p>Refine our <strong>RandomForestRegressor </strong>model by searching for its optimal hyperparameters. Conduct a grid search with 5-fold cross-validation, testing values of <strong>n_estimators </strong>of 10, 100, 200 and 500&nbsp; and values of <strong>criterion </strong>with \"squared_error\", \"absolute_error\", and \"poisson\". For reproducibility, conduct this grid search with a <strong>random_state </strong>of <strong>1234</strong>.</p><p>Once the optimal parameters have been identified, create a new <strong>RandomForestRegressor </strong>with those parameters, train it with our test data, and evaluate the MAE, MSE, and RMSE against our test data.</p></div>"
   ]
  },
  {
   "cell_type": "markdown",
   "id": "3acceadf",
   "metadata": {},
   "source": [
    "<p>Construct a <strong>GridSearchCV </strong>using the parameter grid specified and a <strong>RandomForestRegressor</strong>. Conduct the grid search with our test data <strong>X_train </strong>and&nbsp; <strong>y_train </strong>using the <strong>fit </strong>command. This may take a few minutes to run.<br></p>"
   ]
  },
  {
   "cell_type": "code",
   "execution_count": 36,
   "id": "b5ab44ab",
   "metadata": {},
   "outputs": [
    {
     "data": {
      "text/html": [
       "<style>#sk-container-id-4 {color: black;background-color: white;}#sk-container-id-4 pre{padding: 0;}#sk-container-id-4 div.sk-toggleable {background-color: white;}#sk-container-id-4 label.sk-toggleable__label {cursor: pointer;display: block;width: 100%;margin-bottom: 0;padding: 0.3em;box-sizing: border-box;text-align: center;}#sk-container-id-4 label.sk-toggleable__label-arrow:before {content: \"▸\";float: left;margin-right: 0.25em;color: #696969;}#sk-container-id-4 label.sk-toggleable__label-arrow:hover:before {color: black;}#sk-container-id-4 div.sk-estimator:hover label.sk-toggleable__label-arrow:before {color: black;}#sk-container-id-4 div.sk-toggleable__content {max-height: 0;max-width: 0;overflow: hidden;text-align: left;background-color: #f0f8ff;}#sk-container-id-4 div.sk-toggleable__content pre {margin: 0.2em;color: black;border-radius: 0.25em;background-color: #f0f8ff;}#sk-container-id-4 input.sk-toggleable__control:checked~div.sk-toggleable__content {max-height: 200px;max-width: 100%;overflow: auto;}#sk-container-id-4 input.sk-toggleable__control:checked~label.sk-toggleable__label-arrow:before {content: \"▾\";}#sk-container-id-4 div.sk-estimator input.sk-toggleable__control:checked~label.sk-toggleable__label {background-color: #d4ebff;}#sk-container-id-4 div.sk-label input.sk-toggleable__control:checked~label.sk-toggleable__label {background-color: #d4ebff;}#sk-container-id-4 input.sk-hidden--visually {border: 0;clip: rect(1px 1px 1px 1px);clip: rect(1px, 1px, 1px, 1px);height: 1px;margin: -1px;overflow: hidden;padding: 0;position: absolute;width: 1px;}#sk-container-id-4 div.sk-estimator {font-family: monospace;background-color: #f0f8ff;border: 1px dotted black;border-radius: 0.25em;box-sizing: border-box;margin-bottom: 0.5em;}#sk-container-id-4 div.sk-estimator:hover {background-color: #d4ebff;}#sk-container-id-4 div.sk-parallel-item::after {content: \"\";width: 100%;border-bottom: 1px solid gray;flex-grow: 1;}#sk-container-id-4 div.sk-label:hover label.sk-toggleable__label {background-color: #d4ebff;}#sk-container-id-4 div.sk-serial::before {content: \"\";position: absolute;border-left: 1px solid gray;box-sizing: border-box;top: 0;bottom: 0;left: 50%;z-index: 0;}#sk-container-id-4 div.sk-serial {display: flex;flex-direction: column;align-items: center;background-color: white;padding-right: 0.2em;padding-left: 0.2em;position: relative;}#sk-container-id-4 div.sk-item {position: relative;z-index: 1;}#sk-container-id-4 div.sk-parallel {display: flex;align-items: stretch;justify-content: center;background-color: white;position: relative;}#sk-container-id-4 div.sk-item::before, #sk-container-id-4 div.sk-parallel-item::before {content: \"\";position: absolute;border-left: 1px solid gray;box-sizing: border-box;top: 0;bottom: 0;left: 50%;z-index: -1;}#sk-container-id-4 div.sk-parallel-item {display: flex;flex-direction: column;z-index: 1;position: relative;background-color: white;}#sk-container-id-4 div.sk-parallel-item:first-child::after {align-self: flex-end;width: 50%;}#sk-container-id-4 div.sk-parallel-item:last-child::after {align-self: flex-start;width: 50%;}#sk-container-id-4 div.sk-parallel-item:only-child::after {width: 0;}#sk-container-id-4 div.sk-dashed-wrapped {border: 1px dashed gray;margin: 0 0.4em 0.5em 0.4em;box-sizing: border-box;padding-bottom: 0.4em;background-color: white;}#sk-container-id-4 div.sk-label label {font-family: monospace;font-weight: bold;display: inline-block;line-height: 1.2em;}#sk-container-id-4 div.sk-label-container {text-align: center;}#sk-container-id-4 div.sk-container {/* jupyter's `normalize.less` sets `[hidden] { display: none; }` but bootstrap.min.css set `[hidden] { display: none !important; }` so we also need the `!important` here to be able to override the default hidden behavior on the sphinx rendered scikit-learn.org. See: https://github.com/scikit-learn/scikit-learn/issues/21755 */display: inline-block !important;position: relative;}#sk-container-id-4 div.sk-text-repr-fallback {display: none;}</style><div id=\"sk-container-id-4\" class=\"sk-top-container\"><div class=\"sk-text-repr-fallback\"><pre>GridSearchCV(cv=5, estimator=RandomForestRegressor(),\n",
       "             param_grid={&#x27;criterion&#x27;: [&#x27;squared_error&#x27;, &#x27;absolute_error&#x27;,\n",
       "                                       &#x27;poisson&#x27;],\n",
       "                         &#x27;n_estimators&#x27;: [10, 100, 200, 500],\n",
       "                         &#x27;random_state&#x27;: [1234]})</pre><b>In a Jupyter environment, please rerun this cell to show the HTML representation or trust the notebook. <br />On GitHub, the HTML representation is unable to render, please try loading this page with nbviewer.org.</b></div><div class=\"sk-container\" hidden><div class=\"sk-item sk-dashed-wrapped\"><div class=\"sk-label-container\"><div class=\"sk-label sk-toggleable\"><input class=\"sk-toggleable__control sk-hidden--visually\" id=\"sk-estimator-id-4\" type=\"checkbox\" ><label for=\"sk-estimator-id-4\" class=\"sk-toggleable__label sk-toggleable__label-arrow\">GridSearchCV</label><div class=\"sk-toggleable__content\"><pre>GridSearchCV(cv=5, estimator=RandomForestRegressor(),\n",
       "             param_grid={&#x27;criterion&#x27;: [&#x27;squared_error&#x27;, &#x27;absolute_error&#x27;,\n",
       "                                       &#x27;poisson&#x27;],\n",
       "                         &#x27;n_estimators&#x27;: [10, 100, 200, 500],\n",
       "                         &#x27;random_state&#x27;: [1234]})</pre></div></div></div><div class=\"sk-parallel\"><div class=\"sk-parallel-item\"><div class=\"sk-item\"><div class=\"sk-label-container\"><div class=\"sk-label sk-toggleable\"><input class=\"sk-toggleable__control sk-hidden--visually\" id=\"sk-estimator-id-5\" type=\"checkbox\" ><label for=\"sk-estimator-id-5\" class=\"sk-toggleable__label sk-toggleable__label-arrow\">estimator: RandomForestRegressor</label><div class=\"sk-toggleable__content\"><pre>RandomForestRegressor()</pre></div></div></div><div class=\"sk-serial\"><div class=\"sk-item\"><div class=\"sk-estimator sk-toggleable\"><input class=\"sk-toggleable__control sk-hidden--visually\" id=\"sk-estimator-id-6\" type=\"checkbox\" ><label for=\"sk-estimator-id-6\" class=\"sk-toggleable__label sk-toggleable__label-arrow\">RandomForestRegressor</label><div class=\"sk-toggleable__content\"><pre>RandomForestRegressor()</pre></div></div></div></div></div></div></div></div></div></div>"
      ],
      "text/plain": [
       "GridSearchCV(cv=5, estimator=RandomForestRegressor(),\n",
       "             param_grid={'criterion': ['squared_error', 'absolute_error',\n",
       "                                       'poisson'],\n",
       "                         'n_estimators': [10, 100, 200, 500],\n",
       "                         'random_state': [1234]})"
      ]
     },
     "execution_count": 36,
     "metadata": {},
     "output_type": "execute_result"
    }
   ],
   "source": [
    "from sklearn.model_selection import GridSearchCV\n",
    " \n",
    "grid = {\n",
    "    'n_estimators': [10, 100, 200, 500],\n",
    "    'criterion': ['squared_error', 'absolute_error', 'poisson'],\n",
    "    'random_state' : [1234]\n",
    "}\n",
    " \n",
    "forest_cv = GridSearchCV(estimator = RandomForestRegressor(),\n",
    "                         param_grid=grid,\n",
    "                         cv=5)\n",
    " \n",
    "forest_cv.fit(X_train, y_train)"
   ]
  },
  {
   "cell_type": "markdown",
   "id": "e5917137",
   "metadata": {},
   "source": [
    "<p>Display the optimal parameters identified by the grid search by inspecting the resulting <strong>best_params_ </strong>dictionary:<br></p>"
   ]
  },
  {
   "cell_type": "code",
   "execution_count": 37,
   "id": "c221bf7f",
   "metadata": {},
   "outputs": [
    {
     "data": {
      "text/plain": [
       "{'criterion': 'absolute_error', 'n_estimators': 500, 'random_state': 1234}"
      ]
     },
     "execution_count": 37,
     "metadata": {},
     "output_type": "execute_result"
    }
   ],
   "source": [
    "forest_cv.best_params_"
   ]
  },
  {
   "cell_type": "markdown",
   "id": "cd566de2",
   "metadata": {},
   "source": [
    "<p>Train a new <strong>RandomForestRegressor </strong>using these parameters, and compute the MSE, MAE, and RMSE of this tuned model. This may take a few minutes to run.<br></p>"
   ]
  },
  {
   "cell_type": "code",
   "execution_count": 38,
   "id": "acad17e8",
   "metadata": {},
   "outputs": [
    {
     "name": "stdout",
     "output_type": "stream",
     "text": [
      "Testing mse =  2.6345649596785865  mae =  1.0905208441558556  rmse =  1.6231343011835424\n"
     ]
    }
   ],
   "source": [
    "forest_model = RandomForestRegressor(n_estimators=500, criterion='absolute_error')\n",
    "forest_model.fit(X_train, y_train)\n",
    " \n",
    "test_mse = mean_squared_error(y_test, forest_model.predict(X_test))\n",
    "test_mae = mean_absolute_error(y_test, forest_model.predict(X_test))\n",
    "test_rmse = test_mse ** 0.5\n",
    " \n",
    "print(\"Testing mse = \", test_mse, \" mae = \", test_mae, \" rmse = \", test_rmse)"
   ]
  },
  {
   "cell_type": "code",
   "execution_count": null,
   "id": "479f407b",
   "metadata": {},
   "outputs": [],
   "source": []
  }
 ],
 "metadata": {
  "kernelspec": {
   "display_name": "Python 3 (ipykernel)",
   "language": "python",
   "name": "python3"
  },
  "language_info": {
   "codemirror_mode": {
    "name": "ipython",
    "version": 3
   },
   "file_extension": ".py",
   "mimetype": "text/x-python",
   "name": "python",
   "nbconvert_exporter": "python",
   "pygments_lexer": "ipython3",
   "version": "3.10.9"
  }
 },
 "nbformat": 4,
 "nbformat_minor": 5
}
